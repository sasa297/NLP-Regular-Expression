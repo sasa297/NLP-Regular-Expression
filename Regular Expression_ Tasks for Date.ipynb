{
 "cells": [
  {
   "cell_type": "markdown",
   "metadata": {},
   "source": [
    "## Regular Expression \n",
    "### Natural Language Processing\n",
    "Submitted by : **Saikiran N. Pasikanti**"
   ]
  },
  {
   "cell_type": "markdown",
   "metadata": {},
   "source": [
    "**Task1:** Write a python script using regular expression for extracting the time pattern from a text."
   ]
  },
  {
   "cell_type": "markdown",
   "metadata": {},
   "source": [
    "**Assumptions :**\n",
    "1. Time pattern should consider valid hours, minutes and different styles of writing patterns.\n",
    "2. Hours should be between **0** to **23**\n",
    "3. Minutes should be between **0** to **59**\n",
    "4. Minutes should be always two-digit number\n",
    "5. Hour should be either single-digit or two-digit number\n",
    "6. Separator should be always **\" : \"**"
   ]
  },
  {
   "cell_type": "code",
   "execution_count": 1,
   "metadata": {},
   "outputs": [],
   "source": [
    "#loading the required regular expression library into python environment\n",
    "import re "
   ]
  },
  {
   "cell_type": "markdown",
   "metadata": {},
   "source": [
    "#### Expression for Minutes"
   ]
  },
  {
   "cell_type": "code",
   "execution_count": 2,
   "metadata": {},
   "outputs": [
    {
     "name": "stdout",
     "output_type": "stream",
     "text": [
      "['59', '00', '01', '12', '24', '25', '45']\n",
      "valid = 7\n"
     ]
    }
   ],
   "source": [
    "# Sample text for minutes-regular expression\n",
    "minute = \"59 60 00 01 1 5 12 24 25 66 999 456 45 This text contains SEVEN valid minute records\"\n",
    "\n",
    "# re.finall() function compile the regular expression, finds all the matches in the subject\n",
    "# Output will be list\n",
    "outm = re.findall(r'\\b([0-5]\\d)\\b', minute)\n",
    "\n",
    "\n",
    "print(outm)                # This will print the required valid minutes records\n",
    "#print(\"valid =\",len(outm)) # This will help us to verify the output with actual valid records"
   ]
  },
  {
   "cell_type": "markdown",
   "metadata": {},
   "source": [
    "##### Explanation of regular expression\n",
    "`\\b     - matches start position of the word (word boundary)`<br>\n",
    "`[0-5]  - matches when first digit is between 0 to 5`<br>\n",
    "`\\d     - matches when second digit is any numeric number from 0 to 9`<br>\n",
    "`\\b     - matches end position of the word`<br>\n",
    "\n",
    "***This will match two digit number from 00-59***"
   ]
  },
  {
   "cell_type": "markdown",
   "metadata": {},
   "source": [
    " "
   ]
  },
  {
   "cell_type": "markdown",
   "metadata": {},
   "source": [
    "#### Expression for Hours"
   ]
  },
  {
   "cell_type": "code",
   "execution_count": 3,
   "metadata": {},
   "outputs": [
    {
     "name": "stdout",
     "output_type": "stream",
     "text": [
      "['00', '22', '10', '1', '02', '05', '5']\n",
      "valid = 7\n"
     ]
    }
   ],
   "source": [
    "# Sample text for hours-regular expression\n",
    "hour = \"00 24 25 99 888 22 10 1 02 05 5 32 31 30 220 This text contains SEVEN valid hour records\"\n",
    "\n",
    "# re.finall() function compile the regular expression, finds all the matches in the subject\n",
    "# Output will be list\n",
    "outh = re.findall(r'\\b(0?\\d|[12][0-3])\\b', hour)\n",
    "\n",
    "\n",
    "print(outh)                # This will print the required valid hours records\n",
    "#print(\"valid =\",len(outm)) # This will help us to verify the output with actual valid records"
   ]
  },
  {
   "cell_type": "markdown",
   "metadata": {},
   "source": [
    "##### Explanation of regular expression\n",
    "`\\b    - matches start position of the word (word boundary)`<br>\n",
    "`0?    - matches when first digit is 0 and its optional (means if no 0, proceeds to next match) (for single or double digit)`<br>\n",
    "`\\d    - matches when second digit is any numeric number from 0 to 9`<br>\n",
    "`|     - alternative re`<br>\n",
    "`[12]  - matches when first digit is either 1 or 2`<br>\n",
    "`[0-3] - matches when second digit is between 0 to 3`<br>\n",
    "`\\b    - matches end position of the word`<br>\n",
    "\n",
    "***This will match either single digit number or two digit number from 0-23 or 00-23***"
   ]
  },
  {
   "cell_type": "markdown",
   "metadata": {},
   "source": [
    " "
   ]
  },
  {
   "cell_type": "code",
   "execution_count": 4,
   "metadata": {},
   "outputs": [],
   "source": [
    "time = '''00:00 #Valid\n",
    "01:01 #Valid\n",
    "59:59\n",
    "999:99\n",
    "10:250\n",
    "30:12\n",
    "1:72\n",
    "3:52 #Valid\n",
    "23:59 #Valid\n",
    "24:00\n",
    "12:00 #Valid\n",
    "1:60\n",
    "2:45 #Valid\n",
    "10:30 #Valid\n",
    "5:45 #Valid\n",
    "09:45 #Valid\n",
    "This text contains NINE valid time records'''"
   ]
  },
  {
   "cell_type": "code",
   "execution_count": 5,
   "metadata": {},
   "outputs": [
    {
     "name": "stdout",
     "output_type": "stream",
     "text": [
      "Valid =  9\n"
     ]
    }
   ],
   "source": [
    "# Output will be list of tuples\n",
    "# Separator is always \":\"\n",
    "# (?:) Non-capturing group are used for extracting valid time as complete string\n",
    "outt = re.findall(r'\\b(?:0?\\d|[12][0-3])\\b:\\b(?:[0-5]\\d)\\b', time) \n",
    "\n",
    "outt                  # List of valid records\n",
    "print(\"Valid = \", len(outt)) # Number of valid records"
   ]
  },
  {
   "cell_type": "code",
   "execution_count": null,
   "metadata": {
    "collapsed": true
   },
   "outputs": [],
   "source": []
  },
  {
   "cell_type": "code",
   "execution_count": null,
   "metadata": {
    "collapsed": true
   },
   "outputs": [],
   "source": []
  },
  {
   "cell_type": "code",
   "execution_count": null,
   "metadata": {
    "collapsed": true
   },
   "outputs": [],
   "source": []
  },
  {
   "cell_type": "markdown",
   "metadata": {},
   "source": [
    "**Task2:** Write a python script using regular expression for extracting the date pattern from a text."
   ]
  },
  {
   "cell_type": "markdown",
   "metadata": {},
   "source": [
    "**Assumptions :**\n",
    "1. Date pattern should consider valid name of months, number of days (1 to 31), number of months (1 to 12) and different styles of writing date patterns.   \n",
    "\n",
    "2. Years should be between **0001** to **9999** (always four-digit number)\n",
    "3. Months should be between **1** to **12** (either single-digit or two-digit number)\n",
    "4. Months can be Alphabetical; Either \"Full Name\" or \"Three Letter\" short name with only first letter Capital i.e **Jan-Dec or January-December**\n",
    "5. Day should be between **1** to **31** (either single-digit or two-digit number)\n",
    "6. Separator can be either \" - \" or \" / \" or \"< space>\" or \".\"\n",
    "7. Condition for Leap Year is years which are multiples of 4 and not multiples of 100 or multiples of 400 \n",
    "\n",
    "`31 days = Jan(1), March(3), May(5), Jul(7), Aug(8), Oct(10), Dec(12)\n",
    "30 days = Apr(4), Jun(6), Sep(9), Nov(11)\n",
    "29 days = Feb(2) for leap year\n",
    "28 days = Feb(2)`"
   ]
  },
  {
   "cell_type": "code",
   "execution_count": 35,
   "metadata": {},
   "outputs": [],
   "source": [
    "date ='''This text contains (only 33) valid date formats as per the assumptions\n",
    "15 November 1989  # Valid       30-11-1890       # Valid            # Invalid Leap year           1-Jan-12345\n",
    "October 2013                    1-1-9899         # Valid            29-2-2000  # Valid            32/10/1900\n",
    "16/11/2016        # Valid       30-9-1789        # Valid            29-2-1900                     31-2-2018\n",
    "16.11.2016        # Valid       07-5-9890        # Valid            31-November-2018\n",
    "16-11-2016        # Valid       1-10-2030        # Valid            # Other Invalid formats       32-Jan-2019\n",
    "2016-11-16                      01-09-9008       # Valid            2-2/2000                      32 October 2013\n",
    "9.9.1994          # Valid       11/11/200        # Valid            12 12 2010                    12-13-2018\n",
    "6.02.2006         # Valid       01/1/1990        # Valid            392-12-2017                   19/15/2900\n",
    "02-29-2011                      10.10.2010       # Valid            1-896-2017                    00/00/0000\n",
    "32-12-2011                      1.1.0001         # Valid            01-JANUARY-2018               99/99/9999\n",
    "01@11@2011                      01-Jan-2018      # Valid            1-JAN-2018                    32 Cricket 3001\n",
    "Cricket 2013                    2/Apr/1996       # Valid            1-Januardy-2018 \n",
    "1-10-1994         # Valid       02/Feb/1997      # Valid            11-jan-2017 \n",
    "1-2-9999          # Valid       1-December-1789  # Valid            1-10-18 \n",
    "1.5.1907          # Valid       30-November-1080 # Valid            1-Jan-18 \n",
    "9.12.0198         # Valid       12-October-1670  # Valid            1-10-218 \n",
    "01-01-2018        # Valid       29-2-2004        # Valid            1-Jan-218 \n",
    "10-9-1650         # Valid       29.2.7152        # Valid            1-10-12345 \n",
    "29/2/2020         # Valid \n",
    "'''"
   ]
  },
  {
   "cell_type": "code",
   "execution_count": 8,
   "metadata": {
    "scrolled": true
   },
   "outputs": [
    {
     "name": "stdout",
     "output_type": "stream",
     "text": [
      "['30', '01', '31', '1', '30', '02', '31', '2', '30', '03', '31', '3', '30', '04', '31', '4', '30', '05', '31', '5', '30', '06', '31', '6', '30', '07', '31', '7', '30', '08', '31', '8', '30', '09', '31', '9', '30', '10', '31', '10', '30', '11', '31', '11', '30', '12', '31', '12', '01', '01', '31', '12', '13', '01', '01', '27', '02', '31', '12', '13', '01', '01', '01', '01', '31', '12', '28', '2', '01', '01', '1', '1', '31', '12', '13', '1', '01', '01', '28', '01', '29', '01', '25', '31', '31', '01', '12', '01', '31', '30', '31', '30']\n"
     ]
    }
   ],
   "source": [
    "#Regular expression for extracting years as per the assumption 8 & 9\n",
    "#Match from 1-31 or 01-31\n",
    "out1 = re.findall(r'\\b(0?[1-9]|[12]\\d|3[01])\\b', date) \n",
    "print(out1)"
   ]
  },
  {
   "cell_type": "markdown",
   "metadata": {},
   "source": [
    "#### Explanation of Regular Expression\n",
    "`0?[1-9] - matches single digit from 1-9 or two digit number in which first digit is 0 and second digit from 1-9\n",
    "[12]\\d  - matches two digit number in which first digit is either 1 or 2 and second digit any number 0-9\n",
    "3[01]   - matches two digit number in which first digit is always 3 and second digit is either 0 or 1\n",
    "|       - for alternative regular expression\n",
    "\\b      - start/ end word boundary`"
   ]
  },
  {
   "cell_type": "code",
   "execution_count": 9,
   "metadata": {},
   "outputs": [
    {
     "name": "stdout",
     "output_type": "stream",
     "text": [
      "['01', '1', '02', '2', '03', '3', '04', '4', '05', '5', '06', '6', '07', '7', '08', '8', '09', '9', '10', '10', '11', '11', '12', '12', '01', '01', '12', '01', '01', '02', '12', '01', '01', '01', '01', '12', '2', '01', '01', '1', '1', '12', '1', '01', '01', '01', '01', '01', '12', '01']\n"
     ]
    }
   ],
   "source": [
    "#Regular expression for extracting month as per the assumption 4 & 5 \n",
    "#Match from 1-12 or 01-12\n",
    "out2 = re.findall(r'\\b(0?[1-9]|1[0-2])\\b', date) \n",
    "print(out2)"
   ]
  },
  {
   "cell_type": "markdown",
   "metadata": {},
   "source": [
    "#### Explanation of Regular Expression\n",
    "`0?[1-9] - matches single digit from 1-9 or two digit number in which first digit is 0 and second digit from 1-9\n",
    "1[0-2]  - matches two digit number in which first digit is always 1 and second digit is either 0 or 1 or 2`"
   ]
  },
  {
   "cell_type": "code",
   "execution_count": 10,
   "metadata": {},
   "outputs": [
    {
     "name": "stdout",
     "output_type": "stream",
     "text": [
      "['1989', '2989', '1989', '1989', '1889', '1999', '1989', '1989', '1789', '2789', '1900', '1989', '1989', '1989', '1989', '1989', '1989', '1989', '1989', '1989', '1989', '1989', '1989', '1989', '1000', '3000', '3001', '0999', '9999', '1000', '3000', '3001', '0999', '9999', '1000', '3000', '3000', '0999', '9999', '1000', '3000', '3001', '1999', '9999', '1000', '3000', '3001', '0999', '9999', '1000', '2120', '3001', '2999', '9999', '2000', '3000', '3000', '2000', '3000', '3000', '2525', '2525']\n"
     ]
    }
   ],
   "source": [
    "#Regular expression for extracting year as per the assumption 2 & 3\n",
    "#Match from 0001 to 9999\n",
    "out3 = re.findall(r'\\b(?:(?!0{4})\\d\\d\\d\\d)\\b', date) \n",
    "print(out3)"
   ]
  },
  {
   "cell_type": "markdown",
   "metadata": {},
   "source": [
    "#### Explanation of Regular Expression\n",
    "`?!0{4}  - neagtive look ahead, will not match 0000\n",
    "\\d\\d\\d\\d - matches four digit number 0000-9999\n",
    "Overall it matches number from 0001-9999`"
   ]
  },
  {
   "cell_type": "code",
   "execution_count": 11,
   "metadata": {},
   "outputs": [
    {
     "name": "stdout",
     "output_type": "stream",
     "text": [
      "['Jan', 'Feb', 'January', 'February', 'Apr', 'Apr', 'Nov', 'Nov']\n"
     ]
    }
   ],
   "source": [
    "#Regular expression for extracting month as per the assumption 6\n",
    "#Match from Jan-Dec or Janurary-December\n",
    "out4 = re.findall(r'\\b(Jan(?:uary)?|Feb(?:ruary)?|Mar(?:ch)?|Apr(?:il)?|May|Jun(?:e)?|Jul(?:y)?|Aug(?:ust)?|Sep(?:tember)?|Oct(?:ober)?|Nov(?:ember)?|Dec(?:ember)?)\\b', date) \n",
    "print(out4)"
   ]
  },
  {
   "cell_type": "markdown",
   "metadata": {},
   "source": [
    "#### Explanation of Regular Expression\n",
    "`(Jan)     - capturing group, matches three-letter string Jan, Case sensitive\n",
    "(?:uary)?  - (?: )non-capturing group, matches four-letter string uary, ()? implies it is optional`"
   ]
  },
  {
   "cell_type": "markdown",
   "metadata": {
    "collapsed": true
   },
   "source": [
    "<space>"
   ]
  },
  {
   "cell_type": "markdown",
   "metadata": {},
   "source": [
    "### Final Regualr Expression"
   ]
  },
  {
   "cell_type": "markdown",
   "metadata": {
    "collapsed": true
   },
   "source": [
    "We will extract valid date strings as original using non-capturing group (?:)"
   ]
  },
  {
   "cell_type": "code",
   "execution_count": 36,
   "metadata": {},
   "outputs": [
    {
     "name": "stdout",
     "output_type": "stream",
     "text": [
      "There are  35 strings which are in valid date format in the text-variable 'date'\n"
     ]
    },
    {
     "data": {
      "text/plain": [
       "['15 November 1989',\n",
       " '30-11-1890',\n",
       " '1-Jan-1234',\n",
       " '1-1-9899',\n",
       " '29-2-2000',\n",
       " '16/11/2016',\n",
       " '30-9-1789',\n",
       " '16.11.2016',\n",
       " '07-5-9890',\n",
       " '16-11-2016',\n",
       " '1-10-2030',\n",
       " '01-09-9008',\n",
       " '2-2/2000',\n",
       " '9.9.1994',\n",
       " '12 12 2010',\n",
       " '6.02.2006',\n",
       " '01/1/1990',\n",
       " '10.10.2010',\n",
       " '1.1.0001',\n",
       " '01-Jan-2018',\n",
       " '2/Apr/1996',\n",
       " '1-10-1994',\n",
       " '02/Feb/1997',\n",
       " '1-2-9999',\n",
       " '1-December-1789',\n",
       " '1.5.1907',\n",
       " '30-November-1080',\n",
       " '9.12.0198',\n",
       " '12-October-1670',\n",
       " '01-01-2018',\n",
       " '29-2-2004',\n",
       " '10-9-1650',\n",
       " '29.2.7152',\n",
       " '1-10-1234',\n",
       " '29/2/2020']"
      ]
     },
     "execution_count": 36,
     "metadata": {},
     "output_type": "execute_result"
    }
   ],
   "source": [
    "ext = re.findall(r'''\n",
    "        \n",
    "\\b(?:(?:   #30-day Months\n",
    "        (?:  0?[1-9] | [12]\\d | 30  )[ ./-]          #Matches days between 1-30 or 01-30 with separator./-\n",
    "        (?:  0?[469] | 11 | Apr(?:il)? | Jun(?:e)? | Sep(?:tember)? | Nov(?:ember)?)  \n",
    "|\n",
    "                      \n",
    "        #31-day Months\n",
    "        (?:  0?[1-9] | [12]\\d | 3[01] )[ ./-]        #Matches days between 1-31 or 01-31 with separator./-\n",
    "        (?:  0?[13578] | 1[02] | Jan(?:uary)?| Mar(?:ch)? |May| Jul(?:y)?|Aug(?:ust)? | Oct(?:ober)?| Dec(?:ember)?) \n",
    "|\n",
    "                      \n",
    "        #28-day Month\n",
    "        (?:  0?[1-9] | [12][0-8]      )[ ./-]        #Matches days between 1-28 or 01-28 with separator./-\n",
    "        (?:  0?[2] | Feb(?:ruary)?    )\n",
    ")         \n",
    "                      \n",
    "        [ ./-]\n",
    "        #Year\n",
    "        (?:  (?!0{4})   \\d\\d\\d\\d))                   #Matches any year between 0001-9999\n",
    "\n",
    "|\n",
    "\n",
    "\n",
    "# This expression will match Leap year 29 day of February\n",
    "# Three non-capturing groups\n",
    "        (?:(?:29[ ./-](?:0?[2] | Feb(?:ruary)?)[ ./-])  #Matches day and month\n",
    "        (?:(?:\\d\\d)(?:[02468][48]|[13579][26]|[2468]0)  #Years which are multiples of 4 and not multiples of 100\n",
    "        |\n",
    "        (?:(?:[02468][48]|[13579][26]|[2468]0)00)))     #Years which are multiples of 400\n",
    "\n",
    "\n",
    "\\b\n",
    "''', date, re.VERBOSE)\n",
    "#print(ext)\n",
    "print(\"There are \",len(ext), \"strings which are in valid date format in the text-variable 'date'\")\n",
    "ext"
   ]
  },
  {
   "cell_type": "markdown",
   "metadata": {},
   "source": [
    "<space>"
   ]
  },
  {
   "cell_type": "markdown",
   "metadata": {},
   "source": [
    "## Regualr Expression for Date with same separator always"
   ]
  },
  {
   "cell_type": "markdown",
   "metadata": {},
   "source": [
    "If there is a condition that both separators used after day and month should be same, we can use the following regular expression for extracting."
   ]
  },
  {
   "cell_type": "code",
   "execution_count": 37,
   "metadata": {},
   "outputs": [
    {
     "name": "stdout",
     "output_type": "stream",
     "text": [
      "There are  33 strings which are in valid date format in the text-variable 'date'\n"
     ]
    },
    {
     "data": {
      "text/plain": [
       "['15 November 1989',\n",
       " '30-11-1890',\n",
       " '1-Jan-1234',\n",
       " '1-1-9899',\n",
       " '29-2-2000',\n",
       " '16/11/2016',\n",
       " '30-9-1789',\n",
       " '16.11.2016',\n",
       " '07-5-9890',\n",
       " '16-11-2016',\n",
       " '1-10-2030',\n",
       " '01-09-9008',\n",
       " '9.9.1994',\n",
       " '6.02.2006',\n",
       " '01/1/1990',\n",
       " '10.10.2010',\n",
       " '1.1.0001',\n",
       " '01-Jan-2018',\n",
       " '2/Apr/1996',\n",
       " '1-10-1994',\n",
       " '02/Feb/1997',\n",
       " '1-2-9999',\n",
       " '1-December-1789',\n",
       " '1.5.1907',\n",
       " '30-November-1080',\n",
       " '9.12.0198',\n",
       " '12-October-1670',\n",
       " '01-01-2018',\n",
       " '29-2-2004',\n",
       " '10-9-1650',\n",
       " '29.2.7152',\n",
       " '1-10-1234',\n",
       " '29/2/2020']"
      ]
     },
     "execution_count": 37,
     "metadata": {},
     "output_type": "execute_result"
    }
   ],
   "source": [
    "ext = re.findall(r'''\n",
    "\\b(?:(?:   #30-day Months\n",
    "        (?:  0?[1-9] | [12]\\d | 30  )[-]          #Matches days between 1-30 or 01-30 with separator-\n",
    "        (?:  0?[469] | 11 | Apr(?:il)? | Jun(?:e)? | Sep(?:tember)? | Nov(?:ember)?)  \n",
    "|                \n",
    "        #31-day Months\n",
    "        (?:  0?[1-9] | [12]\\d | 3[01] )[-]        #Matches days between 1-31 or 01-31 with separator-\n",
    "        (?:  0?[13578] | 1[02] | Jan(?:uary)?| Mar(?:ch)? |May| Jul(?:y)?|Aug(?:ust)? | Oct(?:ober)?| Dec(?:ember)?) \n",
    "|\n",
    "      #28-day Month\n",
    "        (?:  0?[1-9] | [12][0-8]      )[-]        #Matches days between 1-28 or 01-28 with separator-\n",
    "        (?:  0?[2] | Feb(?:ruary)?    )\n",
    ")                       \n",
    "        [-]\n",
    "        #Year\n",
    "        (?:  (?!0{4})   \\d\\d\\d\\d))                   #Matches any year between 0001-9999\n",
    "|\n",
    "# This expression will match Leap year 29 day of February\n",
    "# Three non-capturing groups\n",
    "        (?:(?:29[ ./-](?:0?[2] | Feb(?:ruary)?)[ ./-])  #Matches day and month\n",
    "        (?:(?:\\d\\d)(?:[02468][48]|[13579][26]|[2468]0)  #Years which are multiples of 4 and not multiples of 100\n",
    "        |\n",
    "        (?:(?:[02468][48]|[13579][26]|[2468]0)00)))     #Years which are multiples of 400\n",
    "\\b\n",
    "|\n",
    "\\b(?:(?:   #30-day Months\n",
    "        (?:  0?[1-9] | [12]\\d | 30  )[.]          #Matches days between 1-30 or 01-30 with separator.\n",
    "        (?:  0?[469] | 11 | Apr(?:il)? | Jun(?:e)? | Sep(?:tember)? | Nov(?:ember)?)  \n",
    "|                      \n",
    "        #31-day Months\n",
    "        (?:  0?[1-9] | [12]\\d | 3[01] )[.]        #Matches days between 1-31 or 01-31 with separator.\n",
    "        (?:  0?[13578] | 1[02] | Jan(?:uary)?| Mar(?:ch)? |May| Jul(?:y)?|Aug(?:ust)? | Oct(?:ober)?| Dec(?:ember)?) \n",
    "|                     \n",
    "        #28-day Month\n",
    "        (?:  0?[1-9] | [12][0-8]      )[.]        #Matches days between 1-28 or 01-28 with separator.\n",
    "        (?:  0?[2] | Feb(?:ruary)?    )\n",
    ")                               \n",
    "        [.]\n",
    "        #Year\n",
    "        (?:  (?!0{4})   \\d\\d\\d\\d))                   #Matches any year between 0001-9999\n",
    "|\n",
    "# This expression will match Leap year 29 day of February\n",
    "# Three non-capturing groups\n",
    "        (?:(?:29[.](?:0?[2] | Feb(?:ruary)?)[/])  #Matches day and month\n",
    "        (?:(?:\\d\\d)(?:[02468][48]|[13579][26]|[2468]0)  #Years which are multiples of 4 and not multiples of 100\n",
    "        |\n",
    "        (?:(?:[02468][48]|[13579][26]|[2468]0)00)))     #Years which are multiples of 400\n",
    "\\b \n",
    "|\n",
    "\\b(?:(?:   #30-day Months\n",
    "        (?:  0?[1-9] | [12]\\d | 30  )[/]          #Matches days between 1-30 or 01-30 with separator/\n",
    "        (?:  0?[469] | 11 | Apr(?:il)? | Jun(?:e)? | Sep(?:tember)? | Nov(?:ember)?)  \n",
    "|                      \n",
    "       #31-day Months\n",
    "        (?:  0?[1-9] | [12]\\d | 3[01] )[/]        #Matches days between 1-31 or 01-31 with separator/\n",
    "        (?:  0?[13578] | 1[02] | Jan(?:uary)?| Mar(?:ch)? |May| Jul(?:y)?|Aug(?:ust)? | Oct(?:ober)?| Dec(?:ember)?) \n",
    "|\n",
    "        #28-day Month\n",
    "        (?:  0?[1-9] | [12][0-8]      )[/]        #Matches days between 1-28 or 01-28 with separator/\n",
    "        (?:  0?[2] | Feb(?:ruary)?    )\n",
    ")                               \n",
    "        [/]\n",
    "        #Year\n",
    "        (?:  (?!0{4})   \\d\\d\\d\\d))                   #Matches any year between 0001-9999\n",
    "|\n",
    "# This expression will match Leap year 29 day of February\n",
    "# Three non-capturing groups\n",
    "        (?:(?:29[/](?:0?[2] | Feb(?:ruary)?)[/])  #Matches day and month\n",
    "        (?:(?:\\d\\d)(?:[02468][48]|[13579][26]|[2468]0)  #Years which are multiples of 4 and not multiples of 100\n",
    "        |\n",
    "        (?:(?:[02468][48]|[13579][26]|[2468]0)00)))     #Years which are multiples of 400\n",
    "\\b \n",
    "|\n",
    "\\b(?:(?:#30-day Months\n",
    "        (?:  0?[1-9] | [12]\\d | 30  )[ ]          #Matches days between 1-30 or 01-30 with separator \" \"\n",
    "        (?:  Apr(?:il)? | Jun(?:e)? | Sep(?:tember)? | Nov(?:ember)?)  \n",
    "|\n",
    "        #31-day Months\n",
    "        (?:  0?[1-9] | [12]\\d | 3[01] )[ ]        #Matches days between 1-31 or 01-31 with separator \" \"\n",
    "        (?: Jan(?:uary)?| Mar(?:ch)? |May| Jul(?:y)?|Aug(?:ust)? | Oct(?:ober)?| Dec(?:ember)?) \n",
    "|                    \n",
    "        #28-day Month\n",
    "        (?:  0?[1-9] | [12][0-8]      )[ ]        #Matches days between 1-28 or 01-28 with separator \" \"\n",
    "        (?:  Feb(?:ruary)?    )\n",
    ")                             \n",
    "        [ ]\n",
    "        #Year\n",
    "        (?:  (?!0{4})   \\d\\d\\d\\d))                   #Matches any year between 0001-9999\n",
    "|\n",
    "# This expression will match Leap year 29 day of February\n",
    "# Three non-capturing groups\n",
    "        (?:(?:29[ ](?: Feb(?:ruary)?)[ ])  #Matches day and month\n",
    "        (?:(?:\\d\\d)(?:[02468][48]|[13579][26]|[2468]0)  #Years which are multiples of 4 and not multiples of 100\n",
    "        |\n",
    "        (?:(?:[02468][48]|[13579][26]|[2468]0)00)))     #Years which are multiples of 400\n",
    "\\b \n",
    "''', date, re.VERBOSE)\n",
    "#print(ext)\n",
    "print(\"There are \",len(ext), \"strings which are in valid date format in the text-variable 'date'\")\n",
    "ext"
   ]
  }
 ],
 "metadata": {
  "kernelspec": {
   "display_name": "Python 3",
   "language": "python",
   "name": "python3"
  },
  "language_info": {
   "codemirror_mode": {
    "name": "ipython",
    "version": 3
   },
   "file_extension": ".py",
   "mimetype": "text/x-python",
   "name": "python",
   "nbconvert_exporter": "python",
   "pygments_lexer": "ipython3",
   "version": "3.6.5"
  }
 },
 "nbformat": 4,
 "nbformat_minor": 2
}
